{
 "cells": [
  {
   "cell_type": "code",
   "execution_count": 2,
   "metadata": {},
   "outputs": [],
   "source": [
    "import dask.dataframe as dd"
   ]
  },
  {
   "cell_type": "code",
   "execution_count": 4,
   "metadata": {},
   "outputs": [],
   "source": [
    "df = dd.read_csv(\"thirty_k_imputed.csv\")"
   ]
  },
  {
   "cell_type": "code",
   "execution_count": 6,
   "metadata": {},
   "outputs": [
    {
     "data": {
      "text/plain": [
       "(Delayed('int-56260947-e247-441e-9897-ae38b5d31540'), 14)"
      ]
     },
     "execution_count": 6,
     "metadata": {},
     "output_type": "execute_result"
    }
   ],
   "source": [
    "df.shape"
   ]
  },
  {
   "cell_type": "code",
   "execution_count": 7,
   "metadata": {},
   "outputs": [
    {
     "data": {
      "text/html": [
       "<div>\n",
       "<style scoped>\n",
       "    .dataframe tbody tr th:only-of-type {\n",
       "        vertical-align: middle;\n",
       "    }\n",
       "\n",
       "    .dataframe tbody tr th {\n",
       "        vertical-align: top;\n",
       "    }\n",
       "\n",
       "    .dataframe thead th {\n",
       "        text-align: right;\n",
       "    }\n",
       "</style>\n",
       "<table border=\"1\" class=\"dataframe\">\n",
       "  <thead>\n",
       "    <tr style=\"text-align: right;\">\n",
       "      <th></th>\n",
       "      <th>n</th>\n",
       "      <th>title</th>\n",
       "      <th>author</th>\n",
       "      <th>rating</th>\n",
       "      <th>num_ratings</th>\n",
       "      <th>num_reviews</th>\n",
       "      <th>descrip</th>\n",
       "      <th>isbn</th>\n",
       "      <th>isbn13</th>\n",
       "      <th>binding</th>\n",
       "      <th>edition</th>\n",
       "      <th>pages</th>\n",
       "      <th>published_on</th>\n",
       "      <th>genres</th>\n",
       "    </tr>\n",
       "  </thead>\n",
       "  <tbody>\n",
       "    <tr>\n",
       "      <th>0</th>\n",
       "      <td>18386</td>\n",
       "      <td>The Death of Ivan Ilych</td>\n",
       "      <td>Leo Tolstoy</td>\n",
       "      <td>4.07</td>\n",
       "      <td>75,056 ratings</td>\n",
       "      <td>4,096 reviews</td>\n",
       "      <td>Hailed as one of the world's supreme masterpie...</td>\n",
       "      <td>1600964338.0</td>\n",
       "      <td>9781600964336.0</td>\n",
       "      <td>Paperback</td>\n",
       "      <td>NaN</td>\n",
       "      <td>86 pages</td>\n",
       "      <td>Published August 3rd 2006 by Waking Lion Press...</td>\n",
       "      <td>['Classics', 'Fiction', 'Cultural', 'Russia', ...</td>\n",
       "    </tr>\n",
       "    <tr>\n",
       "      <th>1</th>\n",
       "      <td>6080337</td>\n",
       "      <td>The Year of the Flood</td>\n",
       "      <td>Margaret Atwood</td>\n",
       "      <td>4.07</td>\n",
       "      <td>94,003 ratings</td>\n",
       "      <td>7,205 reviews</td>\n",
       "      <td>The times and species have been changing at a ...</td>\n",
       "      <td>385528779.0</td>\n",
       "      <td>9780385528771.0</td>\n",
       "      <td>Hardcover</td>\n",
       "      <td>First United States Edition</td>\n",
       "      <td>431 pages</td>\n",
       "      <td>Published September 22nd 2009 by Doubleday Nan...</td>\n",
       "      <td>['Fiction', 'Science Fiction', 'Science Fictio...</td>\n",
       "    </tr>\n",
       "    <tr>\n",
       "      <th>2</th>\n",
       "      <td>27371034</td>\n",
       "      <td>Annabel Horton, Lost Witch of Salem</td>\n",
       "      <td>Olivia Hardy Ray</td>\n",
       "      <td>4.32</td>\n",
       "      <td>271 ratings</td>\n",
       "      <td>19 reviews</td>\n",
       "      <td>From the Salem Witch trials through the Ninete...</td>\n",
       "      <td>English</td>\n",
       "      <td>English</td>\n",
       "      <td>Kindle Edition</td>\n",
       "      <td>NaN</td>\n",
       "      <td>374 pages</td>\n",
       "      <td>Published March 11th 2015 by Chatter Creek Pub...</td>\n",
       "      <td>[]</td>\n",
       "    </tr>\n",
       "    <tr>\n",
       "      <th>3</th>\n",
       "      <td>7897851</td>\n",
       "      <td>Bloodlines</td>\n",
       "      <td>Lindsay Anne Kendal</td>\n",
       "      <td>3.70</td>\n",
       "      <td>927 ratings</td>\n",
       "      <td>83 reviews</td>\n",
       "      <td>Keira Jameson used to lead a normal life, she ...</td>\n",
       "      <td>1793378673.0</td>\n",
       "      <td>9781793378675.0</td>\n",
       "      <td>Paperback</td>\n",
       "      <td>1st Edition</td>\n",
       "      <td>320 pages</td>\n",
       "      <td>Published April 29th 2010 by Book Guild Limited</td>\n",
       "      <td>['Young Adult', 'Fantasy', 'Paranormal', 'Para...</td>\n",
       "    </tr>\n",
       "    <tr>\n",
       "      <th>4</th>\n",
       "      <td>40121205</td>\n",
       "      <td>Broken Promises (Past Imperfect Mystery Book 1)</td>\n",
       "      <td>Anne  Willow</td>\n",
       "      <td>4.29</td>\n",
       "      <td>1,069 ratings</td>\n",
       "      <td>25 reviews</td>\n",
       "      <td>Julia needed a new start. The unexpected death...</td>\n",
       "      <td>English</td>\n",
       "      <td>English</td>\n",
       "      <td>Kindle Edition</td>\n",
       "      <td>NaN</td>\n",
       "      <td>229 pages</td>\n",
       "      <td>Published May 13th 2018 by Between the Lines P...</td>\n",
       "      <td>['Young Adult', 'Fiction', 'New Adult', 'Adult...</td>\n",
       "    </tr>\n",
       "  </tbody>\n",
       "</table>\n",
       "</div>"
      ],
      "text/plain": [
       "          n                                            title  \\\n",
       "0     18386                          The Death of Ivan Ilych   \n",
       "1   6080337                            The Year of the Flood   \n",
       "2  27371034              Annabel Horton, Lost Witch of Salem   \n",
       "3   7897851                                       Bloodlines   \n",
       "4  40121205  Broken Promises (Past Imperfect Mystery Book 1)   \n",
       "\n",
       "                author  rating     num_ratings    num_reviews  \\\n",
       "0          Leo Tolstoy    4.07  75,056 ratings  4,096 reviews   \n",
       "1      Margaret Atwood    4.07  94,003 ratings  7,205 reviews   \n",
       "2     Olivia Hardy Ray    4.32     271 ratings     19 reviews   \n",
       "3  Lindsay Anne Kendal    3.70     927 ratings     83 reviews   \n",
       "4         Anne  Willow    4.29   1,069 ratings     25 reviews   \n",
       "\n",
       "                                             descrip          isbn  \\\n",
       "0  Hailed as one of the world's supreme masterpie...  1600964338.0   \n",
       "1  The times and species have been changing at a ...   385528779.0   \n",
       "2  From the Salem Witch trials through the Ninete...       English   \n",
       "3  Keira Jameson used to lead a normal life, she ...  1793378673.0   \n",
       "4  Julia needed a new start. The unexpected death...       English   \n",
       "\n",
       "            isbn13         binding                      edition      pages  \\\n",
       "0  9781600964336.0       Paperback                          NaN   86 pages   \n",
       "1  9780385528771.0       Hardcover  First United States Edition  431 pages   \n",
       "2          English  Kindle Edition                          NaN  374 pages   \n",
       "3  9781793378675.0       Paperback                  1st Edition  320 pages   \n",
       "4          English  Kindle Edition                          NaN  229 pages   \n",
       "\n",
       "                                        published_on  \\\n",
       "0  Published August 3rd 2006 by Waking Lion Press...   \n",
       "1  Published September 22nd 2009 by Doubleday Nan...   \n",
       "2  Published March 11th 2015 by Chatter Creek Pub...   \n",
       "3    Published April 29th 2010 by Book Guild Limited   \n",
       "4  Published May 13th 2018 by Between the Lines P...   \n",
       "\n",
       "                                              genres  \n",
       "0  ['Classics', 'Fiction', 'Cultural', 'Russia', ...  \n",
       "1  ['Fiction', 'Science Fiction', 'Science Fictio...  \n",
       "2                                                 []  \n",
       "3  ['Young Adult', 'Fantasy', 'Paranormal', 'Para...  \n",
       "4  ['Young Adult', 'Fiction', 'New Adult', 'Adult...  "
      ]
     },
     "execution_count": 7,
     "metadata": {},
     "output_type": "execute_result"
    }
   ],
   "source": [
    "df.head()"
   ]
  },
  {
   "cell_type": "code",
   "execution_count": 13,
   "metadata": {},
   "outputs": [],
   "source": [
    "from nltk.corpus import words\n",
    "\n",
    "def english_books(title):\n",
    "    titleist = title.split()\n",
    "    \n",
    "    for word in titleist:\n",
    "        if word not in words.words():\n",
    "            return False\n",
    "    return True"
   ]
  },
  {
   "cell_type": "code",
   "execution_count": 15,
   "metadata": {},
   "outputs": [
    {
     "name": "stderr",
     "output_type": "stream",
     "text": [
      "ERROR:root:Internal Python error in the inspect module.\n",
      "Below is the traceback from this internal error.\n",
      "\n"
     ]
    },
    {
     "name": "stdout",
     "output_type": "stream",
     "text": [
      "Traceback (most recent call last):\n",
      "  File \"C:\\Users\\jayja\\Anaconda3\\lib\\site-packages\\IPython\\core\\interactiveshell.py\", line 3331, in run_code\n",
      "    exec(code_obj, self.user_global_ns, self.user_ns)\n",
      "  File \"<ipython-input-15-cca150c8914b>\", line 3, in <module>\n",
      "    df.head()\n",
      "  File \"C:\\Users\\jayja\\Anaconda3\\lib\\site-packages\\dask\\dataframe\\core.py\", line 971, in head\n",
      "    return self._head(n=n, npartitions=npartitions, compute=compute, safe=True)\n",
      "  File \"C:\\Users\\jayja\\Anaconda3\\lib\\site-packages\\dask\\dataframe\\core.py\", line 1004, in _head\n",
      "    result = result.compute()\n",
      "  File \"C:\\Users\\jayja\\Anaconda3\\lib\\site-packages\\dask\\base.py\", line 166, in compute\n",
      "    (result,) = compute(self, traverse=False, **kwargs)\n",
      "  File \"C:\\Users\\jayja\\Anaconda3\\lib\\site-packages\\dask\\base.py\", line 437, in compute\n",
      "    results = schedule(dsk, keys, **kwargs)\n",
      "  File \"C:\\Users\\jayja\\Anaconda3\\lib\\site-packages\\dask\\threaded.py\", line 84, in get\n",
      "    **kwargs\n",
      "  File \"C:\\Users\\jayja\\Anaconda3\\lib\\site-packages\\dask\\local.py\", line 475, in get_async\n",
      "    key, res_info, failed = queue_get(queue)\n",
      "  File \"C:\\Users\\jayja\\Anaconda3\\lib\\site-packages\\dask\\local.py\", line 125, in queue_get\n",
      "    return q.get(block=True, timeout=0.1)\n",
      "  File \"C:\\Users\\jayja\\Anaconda3\\lib\\queue.py\", line 179, in get\n",
      "    self.not_empty.wait(remaining)\n",
      "  File \"C:\\Users\\jayja\\Anaconda3\\lib\\threading.py\", line 300, in wait\n",
      "    gotit = waiter.acquire(True, timeout)\n",
      "KeyboardInterrupt\n",
      "\n",
      "During handling of the above exception, another exception occurred:\n",
      "\n",
      "Traceback (most recent call last):\n",
      "  File \"C:\\Users\\jayja\\Anaconda3\\lib\\site-packages\\IPython\\core\\interactiveshell.py\", line 2044, in showtraceback\n",
      "    stb = value._render_traceback_()\n",
      "AttributeError: 'KeyboardInterrupt' object has no attribute '_render_traceback_'\n",
      "\n",
      "During handling of the above exception, another exception occurred:\n",
      "\n",
      "Traceback (most recent call last):\n",
      "  File \"C:\\Users\\jayja\\Anaconda3\\lib\\site-packages\\IPython\\core\\ultratb.py\", line 1151, in get_records\n",
      "    return _fixed_getinnerframes(etb, number_of_lines_of_context, tb_offset)\n",
      "  File \"C:\\Users\\jayja\\Anaconda3\\lib\\site-packages\\IPython\\core\\ultratb.py\", line 319, in wrapped\n",
      "    return f(*args, **kwargs)\n",
      "  File \"C:\\Users\\jayja\\Anaconda3\\lib\\site-packages\\IPython\\core\\ultratb.py\", line 353, in _fixed_getinnerframes\n",
      "    records = fix_frame_records_filenames(inspect.getinnerframes(etb, context))\n",
      "  File \"C:\\Users\\jayja\\Anaconda3\\lib\\inspect.py\", line 1502, in getinnerframes\n",
      "    frameinfo = (tb.tb_frame,) + getframeinfo(tb, context)\n",
      "  File \"C:\\Users\\jayja\\Anaconda3\\lib\\inspect.py\", line 1460, in getframeinfo\n",
      "    filename = getsourcefile(frame) or getfile(frame)\n",
      "  File \"C:\\Users\\jayja\\Anaconda3\\lib\\inspect.py\", line 696, in getsourcefile\n",
      "    if getattr(getmodule(object, filename), '__loader__', None) is not None:\n",
      "  File \"C:\\Users\\jayja\\Anaconda3\\lib\\inspect.py\", line 739, in getmodule\n",
      "    f = getabsfile(module)\n",
      "  File \"C:\\Users\\jayja\\Anaconda3\\lib\\inspect.py\", line 708, in getabsfile\n",
      "    _filename = getsourcefile(object) or getfile(object)\n",
      "  File \"C:\\Users\\jayja\\Anaconda3\\lib\\inspect.py\", line 693, in getsourcefile\n",
      "    if os.path.exists(filename):\n",
      "  File \"C:\\Users\\jayja\\Anaconda3\\lib\\genericpath.py\", line 19, in exists\n",
      "    os.stat(path)\n",
      "KeyboardInterrupt\n"
     ]
    },
    {
     "ename": "KeyboardInterrupt",
     "evalue": "",
     "output_type": "error",
     "traceback": [
      "\u001b[1;31m---------------------------------------------------------------------------\u001b[0m"
     ]
    }
   ],
   "source": [
    "df['english_book'] = df['title'].apply(english_books, meta=('title', 'bool'))\n",
    "\n",
    "df.head()"
   ]
  },
  {
   "cell_type": "code",
   "execution_count": 8,
   "metadata": {},
   "outputs": [],
   "source": [
    "seen = []\n",
    "double = []\n",
    "for idx, row in df.iterrows():\n",
    "    book = (row['title'], row['author'])\n",
    "    if (book) not in seen:\n",
    "        seen.append(book)\n",
    "        double.append(False)\n",
    "    else:\n",
    "        double.append(True)\n",
    "        \n"
   ]
  },
  {
   "cell_type": "code",
   "execution_count": 10,
   "metadata": {},
   "outputs": [
    {
     "ename": "TypeError",
     "evalue": "Column assignment doesn't support type list",
     "output_type": "error",
     "traceback": [
      "\u001b[1;31m---------------------------------------------------------------------------\u001b[0m",
      "\u001b[1;31mTypeError\u001b[0m                                 Traceback (most recent call last)",
      "\u001b[1;32m<ipython-input-10-a372f5e28b4b>\u001b[0m in \u001b[0;36m<module>\u001b[1;34m\u001b[0m\n\u001b[1;32m----> 1\u001b[1;33m \u001b[0mdf\u001b[0m\u001b[1;33m[\u001b[0m\u001b[1;34m'is_double'\u001b[0m\u001b[1;33m]\u001b[0m \u001b[1;33m=\u001b[0m \u001b[0mdouble\u001b[0m\u001b[1;33m\u001b[0m\u001b[1;33m\u001b[0m\u001b[0m\n\u001b[0m\u001b[0;32m      2\u001b[0m \u001b[0mdf\u001b[0m\u001b[1;33m.\u001b[0m\u001b[0mhead\u001b[0m\u001b[1;33m(\u001b[0m\u001b[1;33m)\u001b[0m\u001b[1;33m\u001b[0m\u001b[1;33m\u001b[0m\u001b[0m\n",
      "\u001b[1;32m~\\Anaconda3\\lib\\site-packages\\dask\\dataframe\\core.py\u001b[0m in \u001b[0;36m__setitem__\u001b[1;34m(self, key, value)\u001b[0m\n\u001b[0;32m   3384\u001b[0m             \u001b[0mdf\u001b[0m \u001b[1;33m=\u001b[0m \u001b[0mself\u001b[0m\u001b[1;33m.\u001b[0m\u001b[0massign\u001b[0m\u001b[1;33m(\u001b[0m\u001b[1;33m**\u001b[0m\u001b[1;33m{\u001b[0m\u001b[0mk\u001b[0m\u001b[1;33m:\u001b[0m \u001b[0mvalue\u001b[0m \u001b[1;32mfor\u001b[0m \u001b[0mk\u001b[0m \u001b[1;32min\u001b[0m \u001b[0mkey\u001b[0m\u001b[1;33m}\u001b[0m\u001b[1;33m)\u001b[0m\u001b[1;33m\u001b[0m\u001b[1;33m\u001b[0m\u001b[0m\n\u001b[0;32m   3385\u001b[0m         \u001b[1;32melse\u001b[0m\u001b[1;33m:\u001b[0m\u001b[1;33m\u001b[0m\u001b[1;33m\u001b[0m\u001b[0m\n\u001b[1;32m-> 3386\u001b[1;33m             \u001b[0mdf\u001b[0m \u001b[1;33m=\u001b[0m \u001b[0mself\u001b[0m\u001b[1;33m.\u001b[0m\u001b[0massign\u001b[0m\u001b[1;33m(\u001b[0m\u001b[1;33m**\u001b[0m\u001b[1;33m{\u001b[0m\u001b[0mkey\u001b[0m\u001b[1;33m:\u001b[0m \u001b[0mvalue\u001b[0m\u001b[1;33m}\u001b[0m\u001b[1;33m)\u001b[0m\u001b[1;33m\u001b[0m\u001b[1;33m\u001b[0m\u001b[0m\n\u001b[0m\u001b[0;32m   3387\u001b[0m \u001b[1;33m\u001b[0m\u001b[0m\n\u001b[0;32m   3388\u001b[0m         \u001b[0mself\u001b[0m\u001b[1;33m.\u001b[0m\u001b[0mdask\u001b[0m \u001b[1;33m=\u001b[0m \u001b[0mdf\u001b[0m\u001b[1;33m.\u001b[0m\u001b[0mdask\u001b[0m\u001b[1;33m\u001b[0m\u001b[1;33m\u001b[0m\u001b[0m\n",
      "\u001b[1;32m~\\Anaconda3\\lib\\site-packages\\dask\\dataframe\\core.py\u001b[0m in \u001b[0;36massign\u001b[1;34m(self, **kwargs)\u001b[0m\n\u001b[0;32m   3628\u001b[0m                 raise TypeError(\n\u001b[0;32m   3629\u001b[0m                     \u001b[1;34m\"Column assignment doesn't support type \"\u001b[0m\u001b[1;33m\u001b[0m\u001b[1;33m\u001b[0m\u001b[0m\n\u001b[1;32m-> 3630\u001b[1;33m                     \u001b[1;34m\"{0}\"\u001b[0m\u001b[1;33m.\u001b[0m\u001b[0mformat\u001b[0m\u001b[1;33m(\u001b[0m\u001b[0mtypename\u001b[0m\u001b[1;33m(\u001b[0m\u001b[0mtype\u001b[0m\u001b[1;33m(\u001b[0m\u001b[0mv\u001b[0m\u001b[1;33m)\u001b[0m\u001b[1;33m)\u001b[0m\u001b[1;33m)\u001b[0m\u001b[1;33m\u001b[0m\u001b[1;33m\u001b[0m\u001b[0m\n\u001b[0m\u001b[0;32m   3631\u001b[0m                 )\n\u001b[0;32m   3632\u001b[0m             \u001b[1;32mif\u001b[0m \u001b[0mcallable\u001b[0m\u001b[1;33m(\u001b[0m\u001b[0mv\u001b[0m\u001b[1;33m)\u001b[0m\u001b[1;33m:\u001b[0m\u001b[1;33m\u001b[0m\u001b[1;33m\u001b[0m\u001b[0m\n",
      "\u001b[1;31mTypeError\u001b[0m: Column assignment doesn't support type list"
     ]
    }
   ],
   "source": [
    "df['is_double'] = double \n",
    "df.head()"
   ]
  },
  {
   "cell_type": "code",
   "execution_count": null,
   "metadata": {},
   "outputs": [],
   "source": []
  }
 ],
 "metadata": {
  "kernelspec": {
   "display_name": "Python 3",
   "language": "python",
   "name": "python3"
  },
  "language_info": {
   "codemirror_mode": {
    "name": "ipython",
    "version": 3
   },
   "file_extension": ".py",
   "mimetype": "text/x-python",
   "name": "python",
   "nbconvert_exporter": "python",
   "pygments_lexer": "ipython3",
   "version": "3.7.6"
  }
 },
 "nbformat": 4,
 "nbformat_minor": 4
}
