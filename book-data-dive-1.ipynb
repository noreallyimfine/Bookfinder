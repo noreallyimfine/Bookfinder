{
 "cells": [
  {
   "cell_type": "code",
   "execution_count": 6,
   "metadata": {},
   "outputs": [],
   "source": [
    "import pandas as pd\n",
    "import numpy as np"
   ]
  },
  {
   "cell_type": "code",
   "execution_count": 7,
   "metadata": {},
   "outputs": [
    {
     "name": "stdout",
     "output_type": "stream",
     "text": [
      "(19707, 6)\n"
     ]
    },
    {
     "data": {
      "text/html": [
       "<div>\n",
       "<style scoped>\n",
       "    .dataframe tbody tr th:only-of-type {\n",
       "        vertical-align: middle;\n",
       "    }\n",
       "\n",
       "    .dataframe tbody tr th {\n",
       "        vertical-align: top;\n",
       "    }\n",
       "\n",
       "    .dataframe thead th {\n",
       "        text-align: right;\n",
       "    }\n",
       "</style>\n",
       "<table border=\"1\" class=\"dataframe\">\n",
       "  <thead>\n",
       "    <tr style=\"text-align: right;\">\n",
       "      <th></th>\n",
       "      <th>title</th>\n",
       "      <th>author</th>\n",
       "      <th>rating</th>\n",
       "      <th>description</th>\n",
       "      <th>language</th>\n",
       "      <th>isbn</th>\n",
       "    </tr>\n",
       "  </thead>\n",
       "  <tbody>\n",
       "    <tr>\n",
       "      <th>0</th>\n",
       "      <td>The Hunger Games (The Hunger Games, #1)</td>\n",
       "      <td>Suzanne Collins</td>\n",
       "      <td>4.33 avg rating — 6,191,931 ratings</td>\n",
       "      <td>WINNING MEANS FAME AND FORTUNE.LOSING MEANS CE...</td>\n",
       "      <td>English</td>\n",
       "      <td>0439023483 (ISBN13: 9780439023481)</td>\n",
       "    </tr>\n",
       "    <tr>\n",
       "      <th>1</th>\n",
       "      <td>Harry Potter and the Order of the Phoenix (Har...</td>\n",
       "      <td>J.K. Rowling</td>\n",
       "      <td>4.50 avg rating — 2,414,060 ratings</td>\n",
       "      <td>There is a door at the end of a silent corrido...</td>\n",
       "      <td>English</td>\n",
       "      <td>0439358078 (ISBN13: 9780439358071)</td>\n",
       "    </tr>\n",
       "    <tr>\n",
       "      <th>2</th>\n",
       "      <td>To Kill a Mockingbird</td>\n",
       "      <td>Harper Lee</td>\n",
       "      <td>4.28 avg rating — 4,348,656 ratings</td>\n",
       "      <td>The unforgettable novel of a childhood in a sl...</td>\n",
       "      <td>English</td>\n",
       "      <td>NaN</td>\n",
       "    </tr>\n",
       "    <tr>\n",
       "      <th>3</th>\n",
       "      <td>Pride and Prejudice</td>\n",
       "      <td>Jane Austen</td>\n",
       "      <td>4.26 avg rating — 2,886,703 ratings</td>\n",
       "      <td>Alternate cover edition of ISBN 9780679783268S...</td>\n",
       "      <td>English</td>\n",
       "      <td>NaN</td>\n",
       "    </tr>\n",
       "    <tr>\n",
       "      <th>4</th>\n",
       "      <td>Twilight (Twilight, #1)</td>\n",
       "      <td>Stephenie Meyer</td>\n",
       "      <td>3.59 avg rating — 4,815,701 ratings</td>\n",
       "      <td>About three things I was absolutely positive.\\...</td>\n",
       "      <td>English</td>\n",
       "      <td>0316015849 (ISBN13: 9780316015844)</td>\n",
       "    </tr>\n",
       "  </tbody>\n",
       "</table>\n",
       "</div>"
      ],
      "text/plain": [
       "                                               title           author  \\\n",
       "0            The Hunger Games (The Hunger Games, #1)  Suzanne Collins   \n",
       "1  Harry Potter and the Order of the Phoenix (Har...     J.K. Rowling   \n",
       "2                              To Kill a Mockingbird       Harper Lee   \n",
       "3                                Pride and Prejudice      Jane Austen   \n",
       "4                            Twilight (Twilight, #1)  Stephenie Meyer   \n",
       "\n",
       "                                rating  \\\n",
       "0  4.33 avg rating — 6,191,931 ratings   \n",
       "1  4.50 avg rating — 2,414,060 ratings   \n",
       "2  4.28 avg rating — 4,348,656 ratings   \n",
       "3  4.26 avg rating — 2,886,703 ratings   \n",
       "4  3.59 avg rating — 4,815,701 ratings   \n",
       "\n",
       "                                         description language  \\\n",
       "0  WINNING MEANS FAME AND FORTUNE.LOSING MEANS CE...  English   \n",
       "1  There is a door at the end of a silent corrido...  English   \n",
       "2  The unforgettable novel of a childhood in a sl...  English   \n",
       "3  Alternate cover edition of ISBN 9780679783268S...  English   \n",
       "4  About three things I was absolutely positive.\\...  English   \n",
       "\n",
       "                                 isbn  \n",
       "0  0439023483 (ISBN13: 9780439023481)  \n",
       "1  0439358078 (ISBN13: 9780439358071)  \n",
       "2                                 NaN  \n",
       "3                                 NaN  \n",
       "4  0316015849 (ISBN13: 9780316015844)  "
      ]
     },
     "execution_count": 7,
     "metadata": {},
     "output_type": "execute_result"
    }
   ],
   "source": [
    "df = pd.read_csv('master_books.csv')\n",
    "print(df.shape)\n",
    "df.head()"
   ]
  },
  {
   "cell_type": "code",
   "execution_count": 8,
   "metadata": {},
   "outputs": [
    {
     "data": {
      "text/plain": [
       "English                                15960\n",
       "Arabic                                   441\n",
       "Spanish                                  278\n",
       "French                                   220\n",
       "German                                   160\n",
       "Indonesian                               159\n",
       "Portuguese                               114\n",
       "Italian                                   90\n",
       "Dutch                                     86\n",
       "Turkish                                   77\n",
       "Persian                                   54\n",
       "Polish                                    41\n",
       "Romanian                                  37\n",
       "Malay                                     33\n",
       "Czech                                     33\n",
       "Bulgarian                                 31\n",
       "Swedish                                   25\n",
       "Japanese                                  24\n",
       "Greek, Modern (1453-)                     21\n",
       "Urdu                                      21\n",
       "Russian                                   18\n",
       "Bengali                                   17\n",
       "Serbian                                   14\n",
       "Finnish                                   13\n",
       "Estonian                                  13\n",
       "Vietnamese                                11\n",
       "Lithuanian                                 9\n",
       "Norwegian                                  8\n",
       "Hungarian                                  7\n",
       "Tamil                                      6\n",
       "Malayalam                                  6\n",
       "Thai                                       6\n",
       "Danish                                     6\n",
       "Catalan; Valencian                         5\n",
       "Multiple languages                         5\n",
       "Croatian                                   4\n",
       "Georgian                                   4\n",
       "Bosnian                                    3\n",
       "Filipino; Pilipino                         3\n",
       "Armenian                                   3\n",
       "Amharic                                    3\n",
       "Afrikaans                                  2\n",
       "Kannada                                    2\n",
       "Latvian                                    2\n",
       "Macedonian                                 2\n",
       "Chinese                                    2\n",
       "Telugu                                     2\n",
       "Bokmål, Norwegian; Norwegian Bokmål        2\n",
       "Gujarati                                   2\n",
       "Albanian                                   2\n",
       "Icelandic                                  1\n",
       "Hindi                                      1\n",
       "Marathi                                    1\n",
       "Name: language, dtype: int64"
      ]
     },
     "execution_count": 8,
     "metadata": {},
     "output_type": "execute_result"
    }
   ],
   "source": [
    "df['language'].value_counts()"
   ]
  },
  {
   "cell_type": "code",
   "execution_count": 9,
   "metadata": {},
   "outputs": [
    {
     "data": {
      "text/plain": [
       "(15960, 6)"
      ]
     },
     "execution_count": 9,
     "metadata": {},
     "output_type": "execute_result"
    }
   ],
   "source": [
    "df = df[df['language'] == 'English']\n",
    "df.shape"
   ]
  },
  {
   "cell_type": "code",
   "execution_count": 10,
   "metadata": {},
   "outputs": [
    {
     "data": {
      "text/plain": [
       "title             0\n",
       "author            0\n",
       "rating            0\n",
       "description     148\n",
       "language          0\n",
       "isbn           2754\n",
       "dtype: int64"
      ]
     },
     "execution_count": 10,
     "metadata": {},
     "output_type": "execute_result"
    }
   ],
   "source": [
    "df.isnull().sum()"
   ]
  },
  {
   "cell_type": "code",
   "execution_count": 21,
   "metadata": {},
   "outputs": [
    {
     "data": {
      "text/plain": [
       "The Gift                                                                                                                                                     6\n",
       "The Stand                                                                                                                                                    5\n",
       "Life in Outer Space                                                                                                                                          4\n",
       "Whose God? Whose Land?: The Great Empires and The Making of the Modern Middle East (JUDAISM, CHRISTIANITY, ISLAM: THE THREE PILLARS OF MONOTHEISM Book 1)    4\n",
       "Floors                                                                                                                                                       4\n",
       "                                                                                                                                                            ..\n",
       "Dragonfly                                                                                                                                                    1\n",
       "Retrieving for All Occasions                                                                                                                                 1\n",
       "Underground: The Tokyo Gas Attack and the Japanese Psyche                                                                                                    1\n",
       "Apocalypse Cow                                                                                                                                               1\n",
       "The Island of the Day Before                                                                                                                                 1\n",
       "Name: title, Length: 12365, dtype: int64"
      ]
     },
     "execution_count": 21,
     "metadata": {},
     "output_type": "execute_result"
    }
   ],
   "source": [
    "df['title'].value_counts()"
   ]
  },
  {
   "cell_type": "code",
   "execution_count": null,
   "metadata": {},
   "outputs": [],
   "source": []
  },
  {
   "cell_type": "code",
   "execution_count": 24,
   "metadata": {},
   "outputs": [],
   "source": [
    "seen = set()\n",
    "def find_doubles(title, author, seen=seen):\n",
    "    title_author = (title, author)\n",
    "    if title_author not in seen:\n",
    "        seen.add(title_author)\n",
    "        return False\n",
    "    else:\n",
    "        return True"
   ]
  },
  {
   "cell_type": "code",
   "execution_count": 27,
   "metadata": {},
   "outputs": [],
   "source": [
    "df['double'] = df.apply(lambda x: find_doubles(x.title, x.author), axis=1)"
   ]
  },
  {
   "cell_type": "code",
   "execution_count": 28,
   "metadata": {},
   "outputs": [
    {
     "data": {
      "text/plain": [
       "False    12415\n",
       "True      3545\n",
       "Name: double, dtype: int64"
      ]
     },
     "execution_count": 28,
     "metadata": {},
     "output_type": "execute_result"
    }
   ],
   "source": [
    "df['double'].value_counts()"
   ]
  },
  {
   "cell_type": "code",
   "execution_count": 32,
   "metadata": {},
   "outputs": [],
   "source": [
    "mask = ~df['double']\n",
    "df = df[mask]"
   ]
  },
  {
   "cell_type": "code",
   "execution_count": null,
   "metadata": {},
   "outputs": [],
   "source": []
  },
  {
   "cell_type": "code",
   "execution_count": 11,
   "metadata": {},
   "outputs": [],
   "source": [
    "import spacy"
   ]
  },
  {
   "cell_type": "code",
   "execution_count": 12,
   "metadata": {},
   "outputs": [],
   "source": [
    "nlp = spacy.load('en_core_web_sm')"
   ]
  },
  {
   "cell_type": "code",
   "execution_count": 16,
   "metadata": {},
   "outputs": [
    {
     "data": {
      "text/plain": [
       "'WINNING MEANS FAME AND FORTUNE.LOSING MEANS CERTAIN DEATH.THE HUNGER GAMES HAVE BEGUN. . . .In the ruins of a place once known as North America lies the nation of Panem, a shining Capitol surrounded by twelve outlying districts. The Capitol is harsh and cruel and keeps the districts in line by forcing them all to send one boy and once girl between the ages of twelve and eighteen to participate in the annual Hunger Games, a fight to the death on live TV.Sixteen-year-old Katniss Everdeen regards it as a death sentence when she steps forward to take her sister\\'s place in the Games. But Katniss has been close to dead before—and survival, for her, is second nature. Without really meaning to, she becomes a contender. But if she is to win, she will have to start making choices that weight survival against humanity and life against love.There is a door at the end of a silent corridor. And it’s haunting Harry Pottter’s dreams. Why else would he be waking in the middle of the night, screaming in terror?Harry has a lot on his mind for this, his fifth year at Hogwarts: a Defense Against the Dark Arts teacher with a personality like poisoned honey; a big surprise on the Gryffindor Quidditch team; and the looming terror of the Ordinary Wizarding Level exams. But all these things pale next to the growing threat of He-Who-Must-Not-Be-Named - a threat that neither the magical government nor the authorities at Hogwarts can stop.As the grasp of darkness tightens, Harry must discover the true depth and strength of his friends, the importance of boundless loyalty, and the shocking price of unbearable sacrifice.His fate depends on them all.The unforgettable novel of a childhood in a sleepy Southern town and the crisis of conscience that rocked it, To Kill A Mockingbird became both an instant bestseller and a critical success when it was first published in 1960. It went on to win the Pulitzer Prize in 1961 and was later made into an Academy Award-winning film, also a classic.Compassionate, dramatic, and deeply moving, To Kill A Mockingbird takes readers to the roots of human behavior - to innocence and experience, kindness and cruelty, love and hatred, humor and pathos. Now with over 18 million copies in print and translated into forty languages, this regional story by a young Alabama woman claims universal appeal. Harper Lee always considered her book to be a simple love story. Today it is regarded as a masterpiece of American literature.Alternate cover edition of ISBN 9780679783268Since its immediate success in 1813, Pride and Prejudice has remained one of the most popular novels in the English language. Jane Austen called this brilliant work \"her own darling child\" and its vivacious heroine, Elizabeth Bennet, \"as delightful a creature as ever appeared in print.\" The romantic clash between the opinionated Elizabeth and her proud beau, Mr. Darcy, is a splendid performance of civilized sparring. And Jane Austen\\'s radiant wit sparkles as her characters dance a delicate quadrille of flirtation and intrigue, making this book the most superb comedy of manners of Regency England.About three things I was absolutely positive.First, Edward was a vampire.Second, there was a part of him—and I didn\\'t know how dominant that part might be—that thirsted for my blood.And third, I was unconditionally and irrevocably in love with him.Deeply seductive and extraordinarily suspenseful, Twilight is a love story with bite.It is 1939. Nazi Germany. The country is holding its breath. Death has never been busier, and will be busier still.By her brother\\'s graveside, Liesel\\'s life is changed when she picks up a single object, partially hidden in the snow. It is The Gravedigger\\'s Handbook, left behind there by accident, and it is her first act of book thievery. So begins a love affair with books and words, as Liesel, with the help of her accordian-playing foster father, learns to read. Soon she is stealing books from Nazi book-burnings, the mayor\\'s wife\\'s library, wherever there are books to be found.But these are dangerous times. When Liesel\\'s foster family hides a Jew in their basement, Liesel\\'s world is both opened up, and closed down.In superbly crafted writing that burns with intensity, award-winning author Markus Zusak has given us one of the most enduring stories of our time.(Note: this title was not published as YA fiction)'"
      ]
     },
     "execution_count": 16,
     "metadata": {},
     "output_type": "execute_result"
    }
   ],
   "source": [
    "text = df.loc[:5, 'description']\n",
    "text = ''.join(text).replace('\\r', '').replace('\\n', '')\n",
    "text"
   ]
  },
  {
   "cell_type": "code",
   "execution_count": 17,
   "metadata": {},
   "outputs": [],
   "source": [
    "doc = nlp(text)"
   ]
  },
  {
   "cell_type": "code",
   "execution_count": 19,
   "metadata": {},
   "outputs": [
    {
     "data": {
      "text/plain": [
       "['mean',\n",
       " 'mean',\n",
       " 'have',\n",
       " 'know',\n",
       " 'lie',\n",
       " 'shine',\n",
       " 'surround',\n",
       " 'keep',\n",
       " 'force',\n",
       " 'send',\n",
       " 'participate',\n",
       " 'regard',\n",
       " 'step',\n",
       " 'take',\n",
       " 'mean',\n",
       " 'become',\n",
       " 'win',\n",
       " 'will',\n",
       " 'start',\n",
       " 'make',\n",
       " 'weight',\n",
       " '’',\n",
       " 'would',\n",
       " 'wake',\n",
       " 'scream',\n",
       " 'poison',\n",
       " 'loom',\n",
       " 'pale',\n",
       " 'grow',\n",
       " 'Must',\n",
       " 'name',\n",
       " 'can',\n",
       " 'stop',\n",
       " 'must',\n",
       " 'discover',\n",
       " 'depend',\n",
       " 'rock',\n",
       " 'kill',\n",
       " 'become',\n",
       " 'publish',\n",
       " 'go',\n",
       " 'win',\n",
       " 'make',\n",
       " 'win',\n",
       " 'move',\n",
       " 'kill',\n",
       " 'take',\n",
       " 'translate',\n",
       " 'claim',\n",
       " 'consider',\n",
       " 'regard',\n",
       " 'remain',\n",
       " 'call',\n",
       " 'appear',\n",
       " 'sparkle',\n",
       " 'dance',\n",
       " 'make',\n",
       " 'know',\n",
       " 'may',\n",
       " 'thirst',\n",
       " 'hold',\n",
       " 'will',\n",
       " 'change',\n",
       " 'pick',\n",
       " 'hide',\n",
       " 'leave',\n",
       " 'begin',\n",
       " 'play',\n",
       " 'learn',\n",
       " 'read',\n",
       " 'steal',\n",
       " 'find',\n",
       " 'hide',\n",
       " 'open',\n",
       " 'close',\n",
       " 'craft',\n",
       " 'write',\n",
       " 'burn',\n",
       " 'win',\n",
       " 'give',\n",
       " 'publish']"
      ]
     },
     "execution_count": 19,
     "metadata": {},
     "output_type": "execute_result"
    }
   ],
   "source": [
    "[token.lemma_ for token in doc if token.pos_ == 'VERB']"
   ]
  },
  {
   "cell_type": "code",
   "execution_count": null,
   "metadata": {},
   "outputs": [],
   "source": []
  }
 ],
 "metadata": {
  "kernelspec": {
   "display_name": "book-kernel",
   "language": "python",
   "name": "book-kernel"
  },
  "language_info": {
   "codemirror_mode": {
    "name": "ipython",
    "version": 3
   },
   "file_extension": ".py",
   "mimetype": "text/x-python",
   "name": "python",
   "nbconvert_exporter": "python",
   "pygments_lexer": "ipython3",
   "version": "3.8.3"
  }
 },
 "nbformat": 4,
 "nbformat_minor": 4
}
