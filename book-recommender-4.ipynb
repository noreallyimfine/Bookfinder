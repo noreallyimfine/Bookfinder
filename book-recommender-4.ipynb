{
 "cells": [
  {
   "cell_type": "code",
   "execution_count": 1,
   "metadata": {},
   "outputs": [],
   "source": [
    "import enchant\n",
    "import pandas as pd\n",
    "import numpy as np"
   ]
  },
  {
   "cell_type": "code",
   "execution_count": 15,
   "metadata": {},
   "outputs": [],
   "source": [
    "df = pd.read_csv(\"thirty_k_imputed.csv\")"
   ]
  },
  {
   "cell_type": "code",
   "execution_count": 16,
   "metadata": {},
   "outputs": [
    {
     "data": {
      "text/plain": [
       "(31493, 14)"
      ]
     },
     "execution_count": 16,
     "metadata": {},
     "output_type": "execute_result"
    }
   ],
   "source": [
    "df.shape"
   ]
  },
  {
   "cell_type": "code",
   "execution_count": 17,
   "metadata": {},
   "outputs": [
    {
     "data": {
      "text/html": [
       "<div>\n",
       "<style scoped>\n",
       "    .dataframe tbody tr th:only-of-type {\n",
       "        vertical-align: middle;\n",
       "    }\n",
       "\n",
       "    .dataframe tbody tr th {\n",
       "        vertical-align: top;\n",
       "    }\n",
       "\n",
       "    .dataframe thead th {\n",
       "        text-align: right;\n",
       "    }\n",
       "</style>\n",
       "<table border=\"1\" class=\"dataframe\">\n",
       "  <thead>\n",
       "    <tr style=\"text-align: right;\">\n",
       "      <th></th>\n",
       "      <th>n</th>\n",
       "      <th>title</th>\n",
       "      <th>author</th>\n",
       "      <th>rating</th>\n",
       "      <th>num_ratings</th>\n",
       "      <th>num_reviews</th>\n",
       "      <th>descrip</th>\n",
       "      <th>isbn</th>\n",
       "      <th>isbn13</th>\n",
       "      <th>binding</th>\n",
       "      <th>edition</th>\n",
       "      <th>pages</th>\n",
       "      <th>published_on</th>\n",
       "      <th>genres</th>\n",
       "    </tr>\n",
       "  </thead>\n",
       "  <tbody>\n",
       "    <tr>\n",
       "      <th>0</th>\n",
       "      <td>18386</td>\n",
       "      <td>The Death of Ivan Ilych</td>\n",
       "      <td>Leo Tolstoy</td>\n",
       "      <td>4.07</td>\n",
       "      <td>75,056 ratings</td>\n",
       "      <td>4,096 reviews</td>\n",
       "      <td>Hailed as one of the world's supreme masterpie...</td>\n",
       "      <td>1600964338.0</td>\n",
       "      <td>9781600964336.0</td>\n",
       "      <td>Paperback</td>\n",
       "      <td>NaN</td>\n",
       "      <td>86 pages</td>\n",
       "      <td>Published August 3rd 2006 by Waking Lion Press...</td>\n",
       "      <td>['Classics', 'Fiction', 'Cultural', 'Russia', ...</td>\n",
       "    </tr>\n",
       "    <tr>\n",
       "      <th>1</th>\n",
       "      <td>6080337</td>\n",
       "      <td>The Year of the Flood</td>\n",
       "      <td>Margaret Atwood</td>\n",
       "      <td>4.07</td>\n",
       "      <td>94,003 ratings</td>\n",
       "      <td>7,205 reviews</td>\n",
       "      <td>The times and species have been changing at a ...</td>\n",
       "      <td>385528779.0</td>\n",
       "      <td>9780385528771.0</td>\n",
       "      <td>Hardcover</td>\n",
       "      <td>First United States Edition</td>\n",
       "      <td>431 pages</td>\n",
       "      <td>Published September 22nd 2009 by Doubleday Nan...</td>\n",
       "      <td>['Fiction', 'Science Fiction', 'Science Fictio...</td>\n",
       "    </tr>\n",
       "    <tr>\n",
       "      <th>2</th>\n",
       "      <td>27371034</td>\n",
       "      <td>Annabel Horton, Lost Witch of Salem</td>\n",
       "      <td>Olivia Hardy Ray</td>\n",
       "      <td>4.32</td>\n",
       "      <td>271 ratings</td>\n",
       "      <td>19 reviews</td>\n",
       "      <td>From the Salem Witch trials through the Ninete...</td>\n",
       "      <td>English</td>\n",
       "      <td>English</td>\n",
       "      <td>Kindle Edition</td>\n",
       "      <td>NaN</td>\n",
       "      <td>374 pages</td>\n",
       "      <td>Published March 11th 2015 by Chatter Creek Pub...</td>\n",
       "      <td>[]</td>\n",
       "    </tr>\n",
       "    <tr>\n",
       "      <th>3</th>\n",
       "      <td>7897851</td>\n",
       "      <td>Bloodlines</td>\n",
       "      <td>Lindsay Anne Kendal</td>\n",
       "      <td>3.70</td>\n",
       "      <td>927 ratings</td>\n",
       "      <td>83 reviews</td>\n",
       "      <td>Keira Jameson used to lead a normal life, she ...</td>\n",
       "      <td>1793378673.0</td>\n",
       "      <td>9781793378675.0</td>\n",
       "      <td>Paperback</td>\n",
       "      <td>1st Edition</td>\n",
       "      <td>320 pages</td>\n",
       "      <td>Published April 29th 2010 by Book Guild Limited</td>\n",
       "      <td>['Young Adult', 'Fantasy', 'Paranormal', 'Para...</td>\n",
       "    </tr>\n",
       "    <tr>\n",
       "      <th>4</th>\n",
       "      <td>40121205</td>\n",
       "      <td>Broken Promises (Past Imperfect Mystery Book 1)</td>\n",
       "      <td>Anne  Willow</td>\n",
       "      <td>4.29</td>\n",
       "      <td>1,069 ratings</td>\n",
       "      <td>25 reviews</td>\n",
       "      <td>Julia needed a new start. The unexpected death...</td>\n",
       "      <td>English</td>\n",
       "      <td>English</td>\n",
       "      <td>Kindle Edition</td>\n",
       "      <td>NaN</td>\n",
       "      <td>229 pages</td>\n",
       "      <td>Published May 13th 2018 by Between the Lines P...</td>\n",
       "      <td>['Young Adult', 'Fiction', 'New Adult', 'Adult...</td>\n",
       "    </tr>\n",
       "  </tbody>\n",
       "</table>\n",
       "</div>"
      ],
      "text/plain": [
       "          n                                            title  \\\n",
       "0     18386                          The Death of Ivan Ilych   \n",
       "1   6080337                            The Year of the Flood   \n",
       "2  27371034              Annabel Horton, Lost Witch of Salem   \n",
       "3   7897851                                       Bloodlines   \n",
       "4  40121205  Broken Promises (Past Imperfect Mystery Book 1)   \n",
       "\n",
       "                author  rating     num_ratings    num_reviews  \\\n",
       "0          Leo Tolstoy    4.07  75,056 ratings  4,096 reviews   \n",
       "1      Margaret Atwood    4.07  94,003 ratings  7,205 reviews   \n",
       "2     Olivia Hardy Ray    4.32     271 ratings     19 reviews   \n",
       "3  Lindsay Anne Kendal    3.70     927 ratings     83 reviews   \n",
       "4         Anne  Willow    4.29   1,069 ratings     25 reviews   \n",
       "\n",
       "                                             descrip          isbn  \\\n",
       "0  Hailed as one of the world's supreme masterpie...  1600964338.0   \n",
       "1  The times and species have been changing at a ...   385528779.0   \n",
       "2  From the Salem Witch trials through the Ninete...       English   \n",
       "3  Keira Jameson used to lead a normal life, she ...  1793378673.0   \n",
       "4  Julia needed a new start. The unexpected death...       English   \n",
       "\n",
       "            isbn13         binding                      edition      pages  \\\n",
       "0  9781600964336.0       Paperback                          NaN   86 pages   \n",
       "1  9780385528771.0       Hardcover  First United States Edition  431 pages   \n",
       "2          English  Kindle Edition                          NaN  374 pages   \n",
       "3  9781793378675.0       Paperback                  1st Edition  320 pages   \n",
       "4          English  Kindle Edition                          NaN  229 pages   \n",
       "\n",
       "                                        published_on  \\\n",
       "0  Published August 3rd 2006 by Waking Lion Press...   \n",
       "1  Published September 22nd 2009 by Doubleday Nan...   \n",
       "2  Published March 11th 2015 by Chatter Creek Pub...   \n",
       "3    Published April 29th 2010 by Book Guild Limited   \n",
       "4  Published May 13th 2018 by Between the Lines P...   \n",
       "\n",
       "                                              genres  \n",
       "0  ['Classics', 'Fiction', 'Cultural', 'Russia', ...  \n",
       "1  ['Fiction', 'Science Fiction', 'Science Fictio...  \n",
       "2                                                 []  \n",
       "3  ['Young Adult', 'Fantasy', 'Paranormal', 'Para...  \n",
       "4  ['Young Adult', 'Fiction', 'New Adult', 'Adult...  "
      ]
     },
     "execution_count": 17,
     "metadata": {},
     "output_type": "execute_result"
    }
   ],
   "source": [
    "df.head()"
   ]
  },
  {
   "cell_type": "code",
   "execution_count": 18,
   "metadata": {},
   "outputs": [
    {
     "data": {
      "text/plain": [
       "n                   0\n",
       "title               0\n",
       "author              0\n",
       "rating              0\n",
       "num_ratings         0\n",
       "num_reviews         0\n",
       "descrip          3308\n",
       "isbn             6615\n",
       "isbn13           6602\n",
       "binding          3766\n",
       "edition         28385\n",
       "pages            4058\n",
       "published_on     2659\n",
       "genres           3308\n",
       "dtype: int64"
      ]
     },
     "execution_count": 18,
     "metadata": {},
     "output_type": "execute_result"
    }
   ],
   "source": [
    "df.isnull().sum()"
   ]
  },
  {
   "cell_type": "code",
   "execution_count": 19,
   "metadata": {},
   "outputs": [],
   "source": [
    "df = df.dropna(subset=['descrip'])"
   ]
  },
  {
   "cell_type": "code",
   "execution_count": 20,
   "metadata": {},
   "outputs": [],
   "source": [
    "english = enchant.Dict(\"en_US\")\n",
    "\n",
    "def check_english(book, english=english):\n",
    "    word = book.split()[0]\n",
    "    \n",
    "    return english.check(word)"
   ]
  },
  {
   "cell_type": "code",
   "execution_count": 21,
   "metadata": {},
   "outputs": [],
   "source": [
    "df['english'] = df['descrip'].apply(check_english)"
   ]
  },
  {
   "cell_type": "code",
   "execution_count": 22,
   "metadata": {},
   "outputs": [
    {
     "data": {
      "text/html": [
       "<div>\n",
       "<style scoped>\n",
       "    .dataframe tbody tr th:only-of-type {\n",
       "        vertical-align: middle;\n",
       "    }\n",
       "\n",
       "    .dataframe tbody tr th {\n",
       "        vertical-align: top;\n",
       "    }\n",
       "\n",
       "    .dataframe thead th {\n",
       "        text-align: right;\n",
       "    }\n",
       "</style>\n",
       "<table border=\"1\" class=\"dataframe\">\n",
       "  <thead>\n",
       "    <tr style=\"text-align: right;\">\n",
       "      <th></th>\n",
       "      <th>n</th>\n",
       "      <th>title</th>\n",
       "      <th>author</th>\n",
       "      <th>rating</th>\n",
       "      <th>num_ratings</th>\n",
       "      <th>num_reviews</th>\n",
       "      <th>descrip</th>\n",
       "      <th>isbn</th>\n",
       "      <th>isbn13</th>\n",
       "      <th>binding</th>\n",
       "      <th>edition</th>\n",
       "      <th>pages</th>\n",
       "      <th>published_on</th>\n",
       "      <th>genres</th>\n",
       "      <th>english</th>\n",
       "    </tr>\n",
       "  </thead>\n",
       "  <tbody>\n",
       "    <tr>\n",
       "      <th>0</th>\n",
       "      <td>18386</td>\n",
       "      <td>The Death of Ivan Ilych</td>\n",
       "      <td>Leo Tolstoy</td>\n",
       "      <td>4.07</td>\n",
       "      <td>75,056 ratings</td>\n",
       "      <td>4,096 reviews</td>\n",
       "      <td>Hailed as one of the world's supreme masterpie...</td>\n",
       "      <td>1600964338.0</td>\n",
       "      <td>9781600964336.0</td>\n",
       "      <td>Paperback</td>\n",
       "      <td>NaN</td>\n",
       "      <td>86 pages</td>\n",
       "      <td>Published August 3rd 2006 by Waking Lion Press...</td>\n",
       "      <td>['Classics', 'Fiction', 'Cultural', 'Russia', ...</td>\n",
       "      <td>True</td>\n",
       "    </tr>\n",
       "    <tr>\n",
       "      <th>1</th>\n",
       "      <td>6080337</td>\n",
       "      <td>The Year of the Flood</td>\n",
       "      <td>Margaret Atwood</td>\n",
       "      <td>4.07</td>\n",
       "      <td>94,003 ratings</td>\n",
       "      <td>7,205 reviews</td>\n",
       "      <td>The times and species have been changing at a ...</td>\n",
       "      <td>385528779.0</td>\n",
       "      <td>9780385528771.0</td>\n",
       "      <td>Hardcover</td>\n",
       "      <td>First United States Edition</td>\n",
       "      <td>431 pages</td>\n",
       "      <td>Published September 22nd 2009 by Doubleday Nan...</td>\n",
       "      <td>['Fiction', 'Science Fiction', 'Science Fictio...</td>\n",
       "      <td>True</td>\n",
       "    </tr>\n",
       "    <tr>\n",
       "      <th>2</th>\n",
       "      <td>27371034</td>\n",
       "      <td>Annabel Horton, Lost Witch of Salem</td>\n",
       "      <td>Olivia Hardy Ray</td>\n",
       "      <td>4.32</td>\n",
       "      <td>271 ratings</td>\n",
       "      <td>19 reviews</td>\n",
       "      <td>From the Salem Witch trials through the Ninete...</td>\n",
       "      <td>English</td>\n",
       "      <td>English</td>\n",
       "      <td>Kindle Edition</td>\n",
       "      <td>NaN</td>\n",
       "      <td>374 pages</td>\n",
       "      <td>Published March 11th 2015 by Chatter Creek Pub...</td>\n",
       "      <td>[]</td>\n",
       "      <td>True</td>\n",
       "    </tr>\n",
       "    <tr>\n",
       "      <th>3</th>\n",
       "      <td>7897851</td>\n",
       "      <td>Bloodlines</td>\n",
       "      <td>Lindsay Anne Kendal</td>\n",
       "      <td>3.70</td>\n",
       "      <td>927 ratings</td>\n",
       "      <td>83 reviews</td>\n",
       "      <td>Keira Jameson used to lead a normal life, she ...</td>\n",
       "      <td>1793378673.0</td>\n",
       "      <td>9781793378675.0</td>\n",
       "      <td>Paperback</td>\n",
       "      <td>1st Edition</td>\n",
       "      <td>320 pages</td>\n",
       "      <td>Published April 29th 2010 by Book Guild Limited</td>\n",
       "      <td>['Young Adult', 'Fantasy', 'Paranormal', 'Para...</td>\n",
       "      <td>False</td>\n",
       "    </tr>\n",
       "    <tr>\n",
       "      <th>4</th>\n",
       "      <td>40121205</td>\n",
       "      <td>Broken Promises (Past Imperfect Mystery Book 1)</td>\n",
       "      <td>Anne  Willow</td>\n",
       "      <td>4.29</td>\n",
       "      <td>1,069 ratings</td>\n",
       "      <td>25 reviews</td>\n",
       "      <td>Julia needed a new start. The unexpected death...</td>\n",
       "      <td>English</td>\n",
       "      <td>English</td>\n",
       "      <td>Kindle Edition</td>\n",
       "      <td>NaN</td>\n",
       "      <td>229 pages</td>\n",
       "      <td>Published May 13th 2018 by Between the Lines P...</td>\n",
       "      <td>['Young Adult', 'Fiction', 'New Adult', 'Adult...</td>\n",
       "      <td>True</td>\n",
       "    </tr>\n",
       "  </tbody>\n",
       "</table>\n",
       "</div>"
      ],
      "text/plain": [
       "          n                                            title  \\\n",
       "0     18386                          The Death of Ivan Ilych   \n",
       "1   6080337                            The Year of the Flood   \n",
       "2  27371034              Annabel Horton, Lost Witch of Salem   \n",
       "3   7897851                                       Bloodlines   \n",
       "4  40121205  Broken Promises (Past Imperfect Mystery Book 1)   \n",
       "\n",
       "                author  rating     num_ratings    num_reviews  \\\n",
       "0          Leo Tolstoy    4.07  75,056 ratings  4,096 reviews   \n",
       "1      Margaret Atwood    4.07  94,003 ratings  7,205 reviews   \n",
       "2     Olivia Hardy Ray    4.32     271 ratings     19 reviews   \n",
       "3  Lindsay Anne Kendal    3.70     927 ratings     83 reviews   \n",
       "4         Anne  Willow    4.29   1,069 ratings     25 reviews   \n",
       "\n",
       "                                             descrip          isbn  \\\n",
       "0  Hailed as one of the world's supreme masterpie...  1600964338.0   \n",
       "1  The times and species have been changing at a ...   385528779.0   \n",
       "2  From the Salem Witch trials through the Ninete...       English   \n",
       "3  Keira Jameson used to lead a normal life, she ...  1793378673.0   \n",
       "4  Julia needed a new start. The unexpected death...       English   \n",
       "\n",
       "            isbn13         binding                      edition      pages  \\\n",
       "0  9781600964336.0       Paperback                          NaN   86 pages   \n",
       "1  9780385528771.0       Hardcover  First United States Edition  431 pages   \n",
       "2          English  Kindle Edition                          NaN  374 pages   \n",
       "3  9781793378675.0       Paperback                  1st Edition  320 pages   \n",
       "4          English  Kindle Edition                          NaN  229 pages   \n",
       "\n",
       "                                        published_on  \\\n",
       "0  Published August 3rd 2006 by Waking Lion Press...   \n",
       "1  Published September 22nd 2009 by Doubleday Nan...   \n",
       "2  Published March 11th 2015 by Chatter Creek Pub...   \n",
       "3    Published April 29th 2010 by Book Guild Limited   \n",
       "4  Published May 13th 2018 by Between the Lines P...   \n",
       "\n",
       "                                              genres  english  \n",
       "0  ['Classics', 'Fiction', 'Cultural', 'Russia', ...     True  \n",
       "1  ['Fiction', 'Science Fiction', 'Science Fictio...     True  \n",
       "2                                                 []     True  \n",
       "3  ['Young Adult', 'Fantasy', 'Paranormal', 'Para...    False  \n",
       "4  ['Young Adult', 'Fiction', 'New Adult', 'Adult...     True  "
      ]
     },
     "execution_count": 22,
     "metadata": {},
     "output_type": "execute_result"
    }
   ],
   "source": [
    "df.head()"
   ]
  },
  {
   "cell_type": "code",
   "execution_count": 23,
   "metadata": {},
   "outputs": [
    {
     "data": {
      "text/plain": [
       "True     22992\n",
       "False     5193\n",
       "Name: english, dtype: int64"
      ]
     },
     "execution_count": 23,
     "metadata": {},
     "output_type": "execute_result"
    }
   ],
   "source": [
    "df.english.value_counts()"
   ]
  },
  {
   "cell_type": "code",
   "execution_count": 25,
   "metadata": {},
   "outputs": [],
   "source": [
    "mask = df['english']\n",
    "english_books = df[mask]"
   ]
  },
  {
   "cell_type": "code",
   "execution_count": 27,
   "metadata": {},
   "outputs": [
    {
     "data": {
      "text/plain": [
       "(22992, 15)"
      ]
     },
     "execution_count": 27,
     "metadata": {},
     "output_type": "execute_result"
    }
   ],
   "source": [
    "english_books.shape"
   ]
  },
  {
   "cell_type": "code",
   "execution_count": 29,
   "metadata": {},
   "outputs": [],
   "source": [
    "english_books.to_csv('english_books.csv', index=False)"
   ]
  },
  {
   "cell_type": "code",
   "execution_count": null,
   "metadata": {},
   "outputs": [],
   "source": []
  }
 ],
 "metadata": {
  "kernelspec": {
   "display_name": "book-kernel",
   "language": "python",
   "name": "book-kernel"
  },
  "language_info": {
   "codemirror_mode": {
    "name": "ipython",
    "version": 3
   },
   "file_extension": ".py",
   "mimetype": "text/x-python",
   "name": "python",
   "nbconvert_exporter": "python",
   "pygments_lexer": "ipython3",
   "version": "3.8.3"
  }
 },
 "nbformat": 4,
 "nbformat_minor": 4
}
