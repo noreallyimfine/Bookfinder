{
 "cells": [
  {
   "cell_type": "markdown",
   "metadata": {},
   "source": [
    "### spaCy\n",
    "\n",
    "Results not too great with TfidfVectorizer alone or in tandem with Gensim simple_preprocess.\n",
    "Ideas for improving are more specialized NLP and/or gathering better book synopsis data.\n",
    "\n",
    "But first... gonna see how spaCy does for me"
   ]
  },
  {
   "cell_type": "code",
   "execution_count": 7,
   "metadata": {},
   "outputs": [],
   "source": [
    "import numpy as np\n",
    "import pandas as pd\n",
    "import re\n",
    "import spacy\n",
    "import enchant"
   ]
  },
  {
   "cell_type": "code",
   "execution_count": 12,
   "metadata": {},
   "outputs": [
    {
     "name": "stdout",
     "output_type": "stream",
     "text": [
      "(19707, 6)\n"
     ]
    },
    {
     "data": {
      "text/html": [
       "<div>\n",
       "<style scoped>\n",
       "    .dataframe tbody tr th:only-of-type {\n",
       "        vertical-align: middle;\n",
       "    }\n",
       "\n",
       "    .dataframe tbody tr th {\n",
       "        vertical-align: top;\n",
       "    }\n",
       "\n",
       "    .dataframe thead th {\n",
       "        text-align: right;\n",
       "    }\n",
       "</style>\n",
       "<table border=\"1\" class=\"dataframe\">\n",
       "  <thead>\n",
       "    <tr style=\"text-align: right;\">\n",
       "      <th></th>\n",
       "      <th>title</th>\n",
       "      <th>author</th>\n",
       "      <th>rating</th>\n",
       "      <th>description</th>\n",
       "      <th>language</th>\n",
       "      <th>isbn</th>\n",
       "    </tr>\n",
       "  </thead>\n",
       "  <tbody>\n",
       "    <tr>\n",
       "      <th>0</th>\n",
       "      <td>The Hunger Games (The Hunger Games, #1)</td>\n",
       "      <td>Suzanne Collins</td>\n",
       "      <td>4.33 avg rating — 6,191,931 ratings</td>\n",
       "      <td>WINNING MEANS FAME AND FORTUNE.LOSING MEANS CE...</td>\n",
       "      <td>English</td>\n",
       "      <td>0439023483 (ISBN13: 9780439023481)</td>\n",
       "    </tr>\n",
       "    <tr>\n",
       "      <th>1</th>\n",
       "      <td>Harry Potter and the Order of the Phoenix (Har...</td>\n",
       "      <td>J.K. Rowling</td>\n",
       "      <td>4.50 avg rating — 2,414,060 ratings</td>\n",
       "      <td>There is a door at the end of a silent corrido...</td>\n",
       "      <td>English</td>\n",
       "      <td>0439358078 (ISBN13: 9780439358071)</td>\n",
       "    </tr>\n",
       "    <tr>\n",
       "      <th>2</th>\n",
       "      <td>To Kill a Mockingbird</td>\n",
       "      <td>Harper Lee</td>\n",
       "      <td>4.28 avg rating — 4,348,656 ratings</td>\n",
       "      <td>The unforgettable novel of a childhood in a sl...</td>\n",
       "      <td>English</td>\n",
       "      <td>NaN</td>\n",
       "    </tr>\n",
       "    <tr>\n",
       "      <th>3</th>\n",
       "      <td>Pride and Prejudice</td>\n",
       "      <td>Jane Austen</td>\n",
       "      <td>4.26 avg rating — 2,886,703 ratings</td>\n",
       "      <td>Alternate cover edition of ISBN 9780679783268S...</td>\n",
       "      <td>English</td>\n",
       "      <td>NaN</td>\n",
       "    </tr>\n",
       "    <tr>\n",
       "      <th>4</th>\n",
       "      <td>Twilight (Twilight, #1)</td>\n",
       "      <td>Stephenie Meyer</td>\n",
       "      <td>3.59 avg rating — 4,815,701 ratings</td>\n",
       "      <td>About three things I was absolutely positive.\\...</td>\n",
       "      <td>English</td>\n",
       "      <td>0316015849 (ISBN13: 9780316015844)</td>\n",
       "    </tr>\n",
       "  </tbody>\n",
       "</table>\n",
       "</div>"
      ],
      "text/plain": [
       "                                               title           author  \\\n",
       "0            The Hunger Games (The Hunger Games, #1)  Suzanne Collins   \n",
       "1  Harry Potter and the Order of the Phoenix (Har...     J.K. Rowling   \n",
       "2                              To Kill a Mockingbird       Harper Lee   \n",
       "3                                Pride and Prejudice      Jane Austen   \n",
       "4                            Twilight (Twilight, #1)  Stephenie Meyer   \n",
       "\n",
       "                                rating  \\\n",
       "0  4.33 avg rating — 6,191,931 ratings   \n",
       "1  4.50 avg rating — 2,414,060 ratings   \n",
       "2  4.28 avg rating — 4,348,656 ratings   \n",
       "3  4.26 avg rating — 2,886,703 ratings   \n",
       "4  3.59 avg rating — 4,815,701 ratings   \n",
       "\n",
       "                                         description language  \\\n",
       "0  WINNING MEANS FAME AND FORTUNE.LOSING MEANS CE...  English   \n",
       "1  There is a door at the end of a silent corrido...  English   \n",
       "2  The unforgettable novel of a childhood in a sl...  English   \n",
       "3  Alternate cover edition of ISBN 9780679783268S...  English   \n",
       "4  About three things I was absolutely positive.\\...  English   \n",
       "\n",
       "                                 isbn  \n",
       "0  0439023483 (ISBN13: 9780439023481)  \n",
       "1  0439358078 (ISBN13: 9780439358071)  \n",
       "2                                 NaN  \n",
       "3                                 NaN  \n",
       "4  0316015849 (ISBN13: 9780316015844)  "
      ]
     },
     "execution_count": 12,
     "metadata": {},
     "output_type": "execute_result"
    }
   ],
   "source": [
    "df = pd.read_csv('master_books.csv')\n",
    "print(df.shape)\n",
    "df.head()"
   ]
  },
  {
   "cell_type": "code",
   "execution_count": 13,
   "metadata": {},
   "outputs": [
    {
     "data": {
      "text/plain": [
       "title             0\n",
       "author            0\n",
       "rating            0\n",
       "description     676\n",
       "language       1617\n",
       "isbn           4596\n",
       "dtype: int64"
      ]
     },
     "execution_count": 13,
     "metadata": {},
     "output_type": "execute_result"
    }
   ],
   "source": [
    "df.isnull().sum()"
   ]
  },
  {
   "cell_type": "code",
   "execution_count": 15,
   "metadata": {},
   "outputs": [
    {
     "data": {
      "text/plain": [
       "(19031, 6)"
      ]
     },
     "execution_count": 15,
     "metadata": {},
     "output_type": "execute_result"
    }
   ],
   "source": [
    "mask = df.description.isnull()\n",
    "\n",
    "df[~mask].shape"
   ]
  },
  {
   "cell_type": "code",
   "execution_count": 16,
   "metadata": {},
   "outputs": [
    {
     "data": {
      "text/plain": [
       "(19031, 6)"
      ]
     },
     "execution_count": 16,
     "metadata": {},
     "output_type": "execute_result"
    }
   ],
   "source": [
    "df = df.dropna(subset=['description'])\n",
    "df.shape"
   ]
  },
  {
   "cell_type": "code",
   "execution_count": 17,
   "metadata": {},
   "outputs": [
    {
     "name": "stderr",
     "output_type": "stream",
     "text": [
      "C:\\Users\\jayja\\anaconda3\\envs\\books-kernel\\lib\\site-packages\\ipykernel_launcher.py:1: SettingWithCopyWarning: \n",
      "A value is trying to be set on a copy of a slice from a DataFrame.\n",
      "Try using .loc[row_indexer,col_indexer] = value instead\n",
      "\n",
      "See the caveats in the documentation: https://pandas.pydata.org/pandas-docs/stable/user_guide/indexing.html#returning-a-view-versus-a-copy\n",
      "  \"\"\"Entry point for launching an IPython kernel.\n"
     ]
    }
   ],
   "source": [
    "df['text'] = [re.sub('\\W+', ' ', text.lower()) for text in df['description']]"
   ]
  },
  {
   "cell_type": "code",
   "execution_count": 18,
   "metadata": {},
   "outputs": [
    {
     "data": {
      "text/plain": [
       "English                                15812\n",
       "Arabic                                   408\n",
       "Spanish                                  261\n",
       "French                                   207\n",
       "German                                   156\n",
       "Indonesian                               154\n",
       "Portuguese                               110\n",
       "Italian                                   86\n",
       "Dutch                                     86\n",
       "Turkish                                   73\n",
       "Persian                                   46\n",
       "Polish                                    40\n",
       "Czech                                     33\n",
       "Romanian                                  29\n",
       "Bulgarian                                 28\n",
       "Malay                                     25\n",
       "Swedish                                   24\n",
       "Japanese                                  22\n",
       "Greek, Modern (1453-)                     20\n",
       "Russian                                   16\n",
       "Urdu                                      16\n",
       "Estonian                                  12\n",
       "Vietnamese                                11\n",
       "Finnish                                   11\n",
       "Serbian                                   10\n",
       "Bengali                                   10\n",
       "Norwegian                                  8\n",
       "Hungarian                                  6\n",
       "Lithuanian                                 6\n",
       "Danish                                     6\n",
       "Malayalam                                  6\n",
       "Multiple languages                         5\n",
       "Tamil                                      4\n",
       "Georgian                                   4\n",
       "Croatian                                   4\n",
       "Catalan; Valencian                         3\n",
       "Bosnian                                    3\n",
       "Armenian                                   3\n",
       "Filipino; Pilipino                         3\n",
       "Thai                                       2\n",
       "Kannada                                    2\n",
       "Latvian                                    2\n",
       "Albanian                                   2\n",
       "Chinese                                    2\n",
       "Bokmål, Norwegian; Norwegian Bokmål        2\n",
       "Gujarati                                   2\n",
       "Marathi                                    1\n",
       "Hindi                                      1\n",
       "Amharic                                    1\n",
       "Icelandic                                  1\n",
       "Name: language, dtype: int64"
      ]
     },
     "execution_count": 18,
     "metadata": {},
     "output_type": "execute_result"
    }
   ],
   "source": [
    "# ~16000 books with 'English' as the language - save those\n",
    "df['language'].value_counts()"
   ]
  },
  {
   "cell_type": "code",
   "execution_count": 19,
   "metadata": {},
   "outputs": [
    {
     "data": {
      "text/plain": [
       "(15812, 7)"
      ]
     },
     "execution_count": 19,
     "metadata": {},
     "output_type": "execute_result"
    }
   ],
   "source": [
    "df = df[df['language'] == 'English']\n",
    "df.shape"
   ]
  },
  {
   "cell_type": "code",
   "execution_count": 6,
   "metadata": {},
   "outputs": [],
   "source": [
    "english = enchant.Dict(\"en_US\")\n",
    "\n",
    "def check_english(book, english=english):\n",
    "    ten_words = book.split()[:10]\n",
    "    \n",
    "    word_is_english = []\n",
    "    \n",
    "    for word in ten_words:\n",
    "        word_is_english.append(english.check(word))\n",
    "    \n",
    "    english_words = word_is_english.count(True)\n",
    "    return english_words / len(word_is_english)"
   ]
  },
  {
   "cell_type": "code",
   "execution_count": 20,
   "metadata": {
    "collapsed": true,
    "jupyter": {
     "outputs_hidden": true
    }
   },
   "outputs": [
    {
     "data": {
      "text/html": [
       "<div>\n",
       "<style scoped>\n",
       "    .dataframe tbody tr th:only-of-type {\n",
       "        vertical-align: middle;\n",
       "    }\n",
       "\n",
       "    .dataframe tbody tr th {\n",
       "        vertical-align: top;\n",
       "    }\n",
       "\n",
       "    .dataframe thead th {\n",
       "        text-align: right;\n",
       "    }\n",
       "</style>\n",
       "<table border=\"1\" class=\"dataframe\">\n",
       "  <thead>\n",
       "    <tr style=\"text-align: right;\">\n",
       "      <th></th>\n",
       "      <th>title</th>\n",
       "      <th>author</th>\n",
       "      <th>rating</th>\n",
       "      <th>description</th>\n",
       "      <th>language</th>\n",
       "      <th>isbn</th>\n",
       "      <th>text</th>\n",
       "      <th>is_english</th>\n",
       "    </tr>\n",
       "  </thead>\n",
       "  <tbody>\n",
       "    <tr>\n",
       "      <th>0</th>\n",
       "      <td>The Hunger Games (The Hunger Games, #1)</td>\n",
       "      <td>Suzanne Collins</td>\n",
       "      <td>4.33 avg rating — 6,191,931 ratings</td>\n",
       "      <td>WINNING MEANS FAME AND FORTUNE.LOSING MEANS CE...</td>\n",
       "      <td>English</td>\n",
       "      <td>0439023483 (ISBN13: 9780439023481)</td>\n",
       "      <td>winning means fame and fortune losing means ce...</td>\n",
       "      <td>1.0</td>\n",
       "    </tr>\n",
       "    <tr>\n",
       "      <th>1</th>\n",
       "      <td>Harry Potter and the Order of the Phoenix (Har...</td>\n",
       "      <td>J.K. Rowling</td>\n",
       "      <td>4.50 avg rating — 2,414,060 ratings</td>\n",
       "      <td>There is a door at the end of a silent corrido...</td>\n",
       "      <td>English</td>\n",
       "      <td>0439358078 (ISBN13: 9780439358071)</td>\n",
       "      <td>there is a door at the end of a silent corrido...</td>\n",
       "      <td>1.0</td>\n",
       "    </tr>\n",
       "    <tr>\n",
       "      <th>2</th>\n",
       "      <td>To Kill a Mockingbird</td>\n",
       "      <td>Harper Lee</td>\n",
       "      <td>4.28 avg rating — 4,348,656 ratings</td>\n",
       "      <td>The unforgettable novel of a childhood in a sl...</td>\n",
       "      <td>English</td>\n",
       "      <td>NaN</td>\n",
       "      <td>the unforgettable novel of a childhood in a sl...</td>\n",
       "      <td>1.0</td>\n",
       "    </tr>\n",
       "    <tr>\n",
       "      <th>3</th>\n",
       "      <td>Pride and Prejudice</td>\n",
       "      <td>Jane Austen</td>\n",
       "      <td>4.26 avg rating — 2,886,703 ratings</td>\n",
       "      <td>Alternate cover edition of ISBN 9780679783268S...</td>\n",
       "      <td>English</td>\n",
       "      <td>NaN</td>\n",
       "      <td>alternate cover edition of isbn 9780679783268s...</td>\n",
       "      <td>0.8</td>\n",
       "    </tr>\n",
       "    <tr>\n",
       "      <th>4</th>\n",
       "      <td>Twilight (Twilight, #1)</td>\n",
       "      <td>Stephenie Meyer</td>\n",
       "      <td>3.59 avg rating — 4,815,701 ratings</td>\n",
       "      <td>About three things I was absolutely positive.\\...</td>\n",
       "      <td>English</td>\n",
       "      <td>0316015849 (ISBN13: 9780316015844)</td>\n",
       "      <td>about three things i was absolutely positive f...</td>\n",
       "      <td>0.9</td>\n",
       "    </tr>\n",
       "    <tr>\n",
       "      <th>5</th>\n",
       "      <td>The Book Thief</td>\n",
       "      <td>Markus Zusak (Goodreads Author)</td>\n",
       "      <td>4.37 avg rating — 1,767,200 ratings</td>\n",
       "      <td>It is 1939. Nazi Germany. The country is holdi...</td>\n",
       "      <td>English</td>\n",
       "      <td>0375831002 (ISBN13: 9780375831003)</td>\n",
       "      <td>it is 1939 nazi germany the country is holding...</td>\n",
       "      <td>0.8</td>\n",
       "    </tr>\n",
       "    <tr>\n",
       "      <th>6</th>\n",
       "      <td>The Chronicles of Narnia (Chronicles of Narnia...</td>\n",
       "      <td>C.S. Lewis</td>\n",
       "      <td>4.26 avg rating — 498,771 ratings</td>\n",
       "      <td>Journeys to the end of the world, fantastic cr...</td>\n",
       "      <td>English</td>\n",
       "      <td>NaN</td>\n",
       "      <td>journeys to the end of the world fantastic cre...</td>\n",
       "      <td>1.0</td>\n",
       "    </tr>\n",
       "    <tr>\n",
       "      <th>7</th>\n",
       "      <td>Animal Farm</td>\n",
       "      <td>George Orwell</td>\n",
       "      <td>3.94 avg rating — 2,631,549 ratings</td>\n",
       "      <td>Librarian's note: There is an Alternate Cover ...</td>\n",
       "      <td>English</td>\n",
       "      <td>0451526341 (ISBN13: 9780451526342)</td>\n",
       "      <td>librarian s note there is an alternate cover e...</td>\n",
       "      <td>1.0</td>\n",
       "    </tr>\n",
       "    <tr>\n",
       "      <th>8</th>\n",
       "      <td>J.R.R. Tolkien 4-Book Boxed Set: The Hobbit an...</td>\n",
       "      <td>J.R.R. Tolkien</td>\n",
       "      <td>4.60 avg rating — 107,831 ratings</td>\n",
       "      <td>This four-volume, boxed set contains J.R.R. To...</td>\n",
       "      <td>English</td>\n",
       "      <td>0345538374 (ISBN13: 9780345538376)</td>\n",
       "      <td>this four volume boxed set contains j r r tolk...</td>\n",
       "      <td>0.9</td>\n",
       "    </tr>\n",
       "    <tr>\n",
       "      <th>9</th>\n",
       "      <td>Gone with the Wind</td>\n",
       "      <td>Margaret Mitchell</td>\n",
       "      <td>4.30 avg rating — 1,054,418 ratings</td>\n",
       "      <td>Scarlett O'Hara, the beautiful, spoiled daught...</td>\n",
       "      <td>English</td>\n",
       "      <td>0446675539 (ISBN13: 9780446675536)</td>\n",
       "      <td>scarlett o hara the beautiful spoiled daughter...</td>\n",
       "      <td>0.8</td>\n",
       "    </tr>\n",
       "  </tbody>\n",
       "</table>\n",
       "</div>"
      ],
      "text/plain": [
       "                                               title  \\\n",
       "0            The Hunger Games (The Hunger Games, #1)   \n",
       "1  Harry Potter and the Order of the Phoenix (Har...   \n",
       "2                              To Kill a Mockingbird   \n",
       "3                                Pride and Prejudice   \n",
       "4                            Twilight (Twilight, #1)   \n",
       "5                                     The Book Thief   \n",
       "6  The Chronicles of Narnia (Chronicles of Narnia...   \n",
       "7                                        Animal Farm   \n",
       "8  J.R.R. Tolkien 4-Book Boxed Set: The Hobbit an...   \n",
       "9                                 Gone with the Wind   \n",
       "\n",
       "                            author                               rating  \\\n",
       "0                  Suzanne Collins  4.33 avg rating — 6,191,931 ratings   \n",
       "1                     J.K. Rowling  4.50 avg rating — 2,414,060 ratings   \n",
       "2                       Harper Lee  4.28 avg rating — 4,348,656 ratings   \n",
       "3                      Jane Austen  4.26 avg rating — 2,886,703 ratings   \n",
       "4                  Stephenie Meyer  3.59 avg rating — 4,815,701 ratings   \n",
       "5  Markus Zusak (Goodreads Author)  4.37 avg rating — 1,767,200 ratings   \n",
       "6                       C.S. Lewis    4.26 avg rating — 498,771 ratings   \n",
       "7                    George Orwell  3.94 avg rating — 2,631,549 ratings   \n",
       "8                   J.R.R. Tolkien    4.60 avg rating — 107,831 ratings   \n",
       "9                Margaret Mitchell  4.30 avg rating — 1,054,418 ratings   \n",
       "\n",
       "                                         description language  \\\n",
       "0  WINNING MEANS FAME AND FORTUNE.LOSING MEANS CE...  English   \n",
       "1  There is a door at the end of a silent corrido...  English   \n",
       "2  The unforgettable novel of a childhood in a sl...  English   \n",
       "3  Alternate cover edition of ISBN 9780679783268S...  English   \n",
       "4  About three things I was absolutely positive.\\...  English   \n",
       "5  It is 1939. Nazi Germany. The country is holdi...  English   \n",
       "6  Journeys to the end of the world, fantastic cr...  English   \n",
       "7  Librarian's note: There is an Alternate Cover ...  English   \n",
       "8  This four-volume, boxed set contains J.R.R. To...  English   \n",
       "9  Scarlett O'Hara, the beautiful, spoiled daught...  English   \n",
       "\n",
       "                                 isbn  \\\n",
       "0  0439023483 (ISBN13: 9780439023481)   \n",
       "1  0439358078 (ISBN13: 9780439358071)   \n",
       "2                                 NaN   \n",
       "3                                 NaN   \n",
       "4  0316015849 (ISBN13: 9780316015844)   \n",
       "5  0375831002 (ISBN13: 9780375831003)   \n",
       "6                                 NaN   \n",
       "7  0451526341 (ISBN13: 9780451526342)   \n",
       "8  0345538374 (ISBN13: 9780345538376)   \n",
       "9  0446675539 (ISBN13: 9780446675536)   \n",
       "\n",
       "                                                text  is_english  \n",
       "0  winning means fame and fortune losing means ce...         1.0  \n",
       "1  there is a door at the end of a silent corrido...         1.0  \n",
       "2  the unforgettable novel of a childhood in a sl...         1.0  \n",
       "3  alternate cover edition of isbn 9780679783268s...         0.8  \n",
       "4  about three things i was absolutely positive f...         0.9  \n",
       "5  it is 1939 nazi germany the country is holding...         0.8  \n",
       "6  journeys to the end of the world fantastic cre...         1.0  \n",
       "7  librarian s note there is an alternate cover e...         1.0  \n",
       "8  this four volume boxed set contains j r r tolk...         0.9  \n",
       "9  scarlett o hara the beautiful spoiled daughter...         0.8  "
      ]
     },
     "execution_count": 20,
     "metadata": {},
     "output_type": "execute_result"
    }
   ],
   "source": [
    "df['is_english'] = df['text'].apply(check_english)\n",
    "\n",
    "df.head(10)"
   ]
  },
  {
   "cell_type": "code",
   "execution_count": 21,
   "metadata": {},
   "outputs": [],
   "source": [
    "mask = df['is_english'] >= .5\n",
    "\n",
    "df = df[mask]"
   ]
  },
  {
   "cell_type": "code",
   "execution_count": 22,
   "metadata": {},
   "outputs": [
    {
     "data": {
      "text/plain": [
       "(15742, 8)"
      ]
     },
     "execution_count": 22,
     "metadata": {},
     "output_type": "execute_result"
    }
   ],
   "source": [
    "df.shape"
   ]
  },
  {
   "cell_type": "code",
   "execution_count": 23,
   "metadata": {},
   "outputs": [],
   "source": [
    "def get_description_length(book):\n",
    "    return len(book.split())\n",
    "\n",
    "df['descrip_len'] = df['text'].apply(get_description_length)"
   ]
  },
  {
   "cell_type": "code",
   "execution_count": 24,
   "metadata": {},
   "outputs": [
    {
     "data": {
      "text/plain": [
       "33"
      ]
     },
     "execution_count": 24,
     "metadata": {},
     "output_type": "execute_result"
    }
   ],
   "source": [
    "len(df.query(\"descrip_len <= 6\"))"
   ]
  },
  {
   "cell_type": "code",
   "execution_count": 26,
   "metadata": {},
   "outputs": [],
   "source": [
    "# dropping books with descriptions shorter than 7 words\n",
    "mask = df['descrip_len'] > 6\n",
    "\n",
    "df = df[mask]"
   ]
  },
  {
   "cell_type": "code",
   "execution_count": 27,
   "metadata": {},
   "outputs": [
    {
     "data": {
      "text/plain": [
       "(15709, 9)"
      ]
     },
     "execution_count": 27,
     "metadata": {},
     "output_type": "execute_result"
    }
   ],
   "source": [
    "df.shape"
   ]
  },
  {
   "cell_type": "code",
   "execution_count": 28,
   "metadata": {},
   "outputs": [],
   "source": [
    "seen = set()\n",
    "def find_doubles(title, author, seen=seen):\n",
    "    title_author = (title, author)\n",
    "    if title_author not in seen:\n",
    "        seen.add(title_author)\n",
    "        return False\n",
    "    else:\n",
    "        return True"
   ]
  },
  {
   "cell_type": "code",
   "execution_count": 29,
   "metadata": {},
   "outputs": [],
   "source": [
    "df['double'] = df.apply(lambda x: find_doubles(x.title, x.author), axis=1)"
   ]
  },
  {
   "cell_type": "code",
   "execution_count": 30,
   "metadata": {},
   "outputs": [
    {
     "data": {
      "text/plain": [
       "False    12240\n",
       "True      3469\n",
       "Name: double, dtype: int64"
      ]
     },
     "execution_count": 30,
     "metadata": {},
     "output_type": "execute_result"
    }
   ],
   "source": [
    "df['double'].value_counts()"
   ]
  },
  {
   "cell_type": "code",
   "execution_count": 31,
   "metadata": {},
   "outputs": [],
   "source": [
    "mask = ~df['double']\n",
    "df = df[mask]"
   ]
  },
  {
   "cell_type": "code",
   "execution_count": 32,
   "metadata": {},
   "outputs": [
    {
     "data": {
      "text/plain": [
       "(12240, 10)"
      ]
     },
     "execution_count": 32,
     "metadata": {},
     "output_type": "execute_result"
    }
   ],
   "source": [
    "df.shape"
   ]
  },
  {
   "cell_type": "code",
   "execution_count": null,
   "metadata": {},
   "outputs": [],
   "source": []
  }
 ],
 "metadata": {
  "kernelspec": {
   "display_name": "book-kernel",
   "language": "python",
   "name": "book-kernel"
  },
  "language_info": {
   "codemirror_mode": {
    "name": "ipython",
    "version": 3
   },
   "file_extension": ".py",
   "mimetype": "text/x-python",
   "name": "python",
   "nbconvert_exporter": "python",
   "pygments_lexer": "ipython3",
   "version": "3.7.7"
  }
 },
 "nbformat": 4,
 "nbformat_minor": 4
}
